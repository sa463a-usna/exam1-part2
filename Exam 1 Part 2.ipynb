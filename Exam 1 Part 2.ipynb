{
 "cells": [
  {
   "cell_type": "markdown",
   "metadata": {},
   "source": [
    "**SA463A &#x25aa; Data Wrangling and Visualization &#x25aa; Fall 2020 &#x25aa; Foraker and Uhan**"
   ]
  },
  {
   "cell_type": "markdown",
   "metadata": {},
   "source": [
    "# Exam 1 &mdash; Part II"
   ]
  },
  {
   "cell_type": "markdown",
   "metadata": {},
   "source": [
    "## Instructions\n",
    "\n",
    "This exam has 2 parts: Part I and Part II (this part). You should have submitted Part I before starting this part.\n",
    "\n",
    "__This exam is due at the end of class on Friday 10/2.__\n",
    "\n",
    "For this part of the exam, you may use your own course materials (e.g. notes, textbook), as well as any materials directly linked from the [course website](https://www.usna.edu/Users/math/uhan/sa463a/). __No collaboration allowed.__ During the exam, you may ask **only** your instructor (i.e. not other midshipmen) questions about the exam. \n",
    "\n",
    "There are 3 problems in this part, worth a total of 75 points. The exam (both parts) is worth a total of 100 points.\n",
    "\n",
    "Save your work frequently! When you are finished, submit this file using the SA463A Assignment Submission Form linked on the [course website](https://www.usna.edu/Users/math/uhan/sa463a/)."
   ]
  },
  {
   "cell_type": "markdown",
   "metadata": {},
   "source": [
    "<hr style=\"border-top: 2px solid gray; margin-top: 1px; margin-bottom: 1px\"></hr>"
   ]
  },
  {
   "cell_type": "markdown",
   "metadata": {},
   "source": [
    "## Background\n",
    "\n",
    "In this exam, you'll use a dataset on carbon dioxide and greenhouse gas emissions, based on [this data from Our World in Data](https://github.com/owid/co2-data). \n",
    "\n",
    "The dataset contains the following variables/columns for a subset of countries around the world, from 2000 to 2016:\n",
    "\n",
    "| Column | Description |\n",
    "| :- | :- |\n",
    "| `year` | Year of observation |\n",
    "| `region` | Region of the world |\n",
    "| `country` | Country |\n",
    "| `co2` | Annual production-based CO2 emissions (million tonnes) |\n",
    "| `ghg` | Annual greenhouse gas emissions (million tonnes of CO2 equivalents) |\n",
    "| `population` | Total population of country |\n",
    "| `gdp` | Total real GDP, inflation-adjusted |\n",
    "\n",
    "\n",
    "The code cell below imports Pandas and Altair, loads the data into a Pandas DataFrame called `df`, and displays the first five rows of `df`. Run this cell."
   ]
  },
  {
   "cell_type": "code",
   "execution_count": null,
   "metadata": {},
   "outputs": [],
   "source": [
    "# Import Pandas and Altair\n",
    "import pandas as pd\n",
    "import altair as alt\n",
    "\n",
    "# Create DataFrame with data\n",
    "df = pd.read_csv('data/ghg.csv')\n",
    "\n",
    "# Display first five rows\n",
    "df.head()"
   ]
  },
  {
   "cell_type": "markdown",
   "metadata": {},
   "source": [
    "<hr style=\"border-top: 2px solid gray; margin-top: 1px; margin-bottom: 1px\"></hr>"
   ]
  },
  {
   "cell_type": "markdown",
   "metadata": {},
   "source": [
    "## Problem 1\n",
    "\n",
    "Create a scatter plot that shows the relationship between total inflation-adjusted real GDP and annual greenhouse gas emissions in 2016 among the countries in the dataset. Use color to highlight the region of the world associated with each point in the scatter plot. Provide a descriptive title for each of the axes and the legend. Your chart should look like this:\n",
    "\n",
    "![](img/problem1.svg)"
   ]
  },
  {
   "cell_type": "code",
   "execution_count": null,
   "metadata": {},
   "outputs": [],
   "source": []
  },
  {
   "cell_type": "markdown",
   "metadata": {},
   "source": [
    "<hr style=\"border-top: 2px solid gray; margin-top: 1px; margin-bottom: 1px\"></hr>"
   ]
  },
  {
   "cell_type": "markdown",
   "metadata": {},
   "source": [
    "## Problem 2\n",
    "\n",
    "Create a matrix of line charts with 8 rows and 6 columns, one for each of the 48 countries represented in the dataset, that shows the annual production-based CO2 emissions per year. Configure each chart to be 100 pixels wide and 100 pixels tall. Provide a descriptive title for each of the axes, and a title for the overall chart. Your matrix of charts should look like this, except with more charts, and possibly a different range on the y-axis:\n",
    "\n",
    "![](img/problem2.svg)"
   ]
  },
  {
   "cell_type": "code",
   "execution_count": null,
   "metadata": {},
   "outputs": [],
   "source": []
  },
  {
   "cell_type": "markdown",
   "metadata": {},
   "source": [
    "<hr style=\"border-top: 2px solid gray; margin-top: 1px; margin-bottom: 1px\"></hr>"
   ]
  },
  {
   "cell_type": "markdown",
   "metadata": {},
   "source": [
    "## Problem 3\n",
    "\n",
    "### Option A\n",
    "\n",
    "Create a line chart that shows the annual greenhouse gas emissions *per capita* for each year and region. Use color to highlight the region of the world associated with each line in the chart. Provide a descriptive title for each of the axes and the legend. Your chart should look like this:\n",
    "\n",
    "![](img/problem3.svg)\n",
    "\n",
    "You can compute the annual greenhouse gas emissions per capita *for each region-year pair* as follows:\n",
    "\n",
    "1. Compute the total greenhouse gas emissions for each region-year pair.\n",
    "2. Compute the total population for each region-year pair.\n",
    "3. Compute the annual greenhouse gas emissions per capita by taking the values you computed in \\#1 and dividing them by the corresponding values you computed in \\#2.\n",
    "\n",
    "\n",
    "### Option B &mdash; Partial Credit\n",
    "\n",
    "If you're having trouble creating the chart described above, you can create the following chart instead for partial credit: Create a line chart that shows the total annual greenhouse gas emissions for each year and region. Use color to highlight the region of the world associated with each line in the chart. Provide a descriptive title for each of the axes and the legend. Your chart should look like this:\n",
    "\n",
    "![](img/problem3_alt.svg)\n",
    "\n",
    "<p style=\"font-weight:bold;background:yellow;\">In a comment, state which option you are submitting work for. Your work will be graded using only one option's rubric.</p>"
   ]
  },
  {
   "cell_type": "code",
   "execution_count": null,
   "metadata": {},
   "outputs": [],
   "source": []
  },
  {
   "cell_type": "markdown",
   "metadata": {},
   "source": [
    "<hr style=\"border-top: 2px solid gray; margin-top: 1px; margin-bottom: 1px\"></hr>"
   ]
  },
  {
   "cell_type": "markdown",
   "metadata": {},
   "source": [
    "## Grading rubric\n",
    "\n",
    "### Problem 1\n",
    "\n",
    "|                                                                                   | Points |\n",
    "| :-                                                                                | -:     |\n",
    "| Only used data from 2016                                                          | 4      |\n",
    "| Created scatter plot, using correct encodings for GDP and GHG emissions | 10     |\n",
    "| Used color to differentiate between regions                                       | 5      |\n",
    "| Provided descriptive title for each of the axes and the legend                    | 6      |\n",
    "| **Total**                                                                         | **25** |\n",
    "\n",
    "### Problem 2\n",
    "\n",
    "|                                                                             | Points |\n",
    "| :-                                                                          | -:     |\n",
    "| Created base line chart, using correct encodings for CO2 emissions and year | 8      |\n",
    "| Adjusted size of base line chart                                            | 3      |\n",
    "| Created 8x6 matrix of line charts                                           | 8      |\n",
    "| Provided descriptive title for each of the axes and the overall chart       | 6      |\n",
    "| **Total**                                                                   | **25** |\n",
    "\n",
    "### Problem 3 &mdash; Option A\n",
    "\n",
    "|                                                                                         | Points |\n",
    "| :-                                                                                      | -:     |\n",
    "| Compute total GHG emissions and population for each region-year pair                    | 4      |\n",
    "| Compute annual GHG emissions per capita for each region-year pair                       | 3      |\n",
    "| Create line chart, using correct encodings for annual GHG emissions per capita and year | 8      |\n",
    "| Used color to differentiate between regions                                             | 4      |\n",
    "| Provided descriptive title for each of the axes and the legend                          | 6      |\n",
    "| **Total**                                                                               | **25** |\n",
    "\n",
    "### Problem 3 &mdash; Option B\n",
    "\n",
    "|                                                                                               | Points |\n",
    "| :-                                                                                            | -:     |\n",
    "| Create line chart, using correct encodings for total annual GHG emissions per capita and year | 8      |\n",
    "| Used color to differentiate between regions                                                   | 4      |\n",
    "| Provided descriptive title for each of the axes and the legend                                | 6      |\n",
    "| **Total**                                                                                     | **18** |"
   ]
  }
 ],
 "metadata": {
  "kernelspec": {
   "display_name": "Python 3",
   "language": "python",
   "name": "python3"
  },
  "language_info": {
   "codemirror_mode": {
    "name": "ipython",
    "version": 3
   },
   "file_extension": ".py",
   "mimetype": "text/x-python",
   "name": "python",
   "nbconvert_exporter": "python",
   "pygments_lexer": "ipython3",
   "version": "3.7.6"
  }
 },
 "nbformat": 4,
 "nbformat_minor": 4
}
